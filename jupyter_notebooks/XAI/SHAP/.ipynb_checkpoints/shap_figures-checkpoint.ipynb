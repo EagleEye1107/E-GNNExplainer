{
 "cells": [
  {
   "cell_type": "markdown",
   "id": "racial-opera",
   "metadata": {},
   "source": [
    "# Test Graph Distribution"
   ]
  },
  {
   "cell_type": "code",
   "execution_count": 2,
   "id": "reverse-pillow",
   "metadata": {},
   "outputs": [
    {
     "name": "stdout",
     "output_type": "stream",
     "text": [
      "Index([' Flow Duration', ' Active Std', ' act_data_pkt_fwd', ' Bwd Packets/s',\n",
      "       ' Max Packet Length', ' RST Flag Count', ' Fwd IAT Mean',\n",
      "       ' Fwd URG Flags', ' ACK Flag Count', ' min_seg_size_forward',\n",
      "       'Fwd PSH Flags', ' Packet Length Variance', ' Bwd IAT Std',\n",
      "       ' Fwd Packet Length Max', ' URG Flag Count', 'Fwd Avg Bytes/Bulk',\n",
      "       ' Bwd IAT Mean', ' Packet Length Mean', ' Flow IAT Max', ' Fwd IAT Std',\n",
      "       ' Flow IAT Std', 'Idle Mean', ' Fwd Header Length.1', ' Idle Std',\n",
      "       ' PSH Flag Count', 'Fwd Packets/s', 'Total Length of Fwd Packets',\n",
      "       'Fwd IAT Total', ' Avg Fwd Segment Size', ' Fwd Packet Length Mean',\n",
      "       'Subflow Fwd Packets', ' Total Length of Bwd Packets',\n",
      "       ' Bwd Packet Length Min', 'Bwd Avg Bulk Rate', 'Bwd IAT Total',\n",
      "       ' Subflow Fwd Bytes', ' Bwd Avg Packets/Bulk', ' Destination IP',\n",
      "       ' Packet Length Std', ' Bwd Packet Length Mean', ' Idle Min',\n",
      "       ' Fwd Avg Packets/Bulk', ' Fwd Avg Bulk Rate', ' Fwd Packet Length Min',\n",
      "       ' Fwd IAT Min', ' Bwd Avg Bytes/Bulk', ' Fwd Packet Length Std',\n",
      "       ' Avg Bwd Segment Size', ' Fwd IAT Max', ' Bwd Packet Length Std',\n",
      "       ' Idle Max', ' Total Fwd Packets', ' Subflow Bwd Packets',\n",
      "       ' Bwd URG Flags', ' SYN Flag Count', ' Bwd PSH Flags',\n",
      "       ' Subflow Bwd Bytes', ' Flow IAT Min', ' Active Min', ' Bwd IAT Max',\n",
      "       'Active Mean', ' Bwd Header Length', ' CWE Flag Count', ' Active Max',\n",
      "       ' Source IP', ' Bwd IAT Min', ' Init_Win_bytes_backward', ' Protocol',\n",
      "       ' Flow IAT Mean', ' Average Packet Size', 'Init_Win_bytes_forward',\n",
      "       ' Fwd Header Length', ' Min Packet Length', ' Total Backward Packets',\n",
      "       ' ECE Flag Count', ' Down/Up Ratio', 'FIN Flag Count',\n",
      "       'Bwd Packet Length Max', 'label'],\n",
      "      dtype='object')\n",
      "5000\n",
      "79\n"
     ]
    }
   ],
   "source": [
    "import pandas as pd\n",
    "\n",
    "# X_test = pd.read_csv('/home/ahmed/GNN-Based-ANIDS/GNN-Based-ANIDS/src/GNN_Model1/XP_CICIDS2017/XAI/SHAP_SAVED/Test_shap_feature_selection.csv', encoding=\"ISO-8859–1\", dtype = str)\n",
    "X_test = pd.read_csv('/home/ahmed/GNN-Based-ANIDS/GNN-Based-ANIDS/src/GNN_Model1/XP_CICIDS2017/XAI/SHAP_SAVED/Test_shap_feature_selection5000_x_train.csv', encoding=\"ISO-8859–1\", dtype = str)\n",
    "X_test = X_test.apply(pd.to_numeric)\n",
    "X_test = X_test.astype(float)\n",
    "\n",
    "print(X_test.columns)\n",
    "print(len(X_test))\n",
    "print(len(X_test.columns))"
   ]
  },
  {
   "cell_type": "code",
   "execution_count": 3,
   "id": "broken-renaissance",
   "metadata": {},
   "outputs": [
    {
     "name": "stdout",
     "output_type": "stream",
     "text": [
      "nb Test instances :  5000\n",
      "MultiGraph with 6035 nodes and 5000 edges\n",
      "nb connected component = 1142\n"
     ]
    }
   ],
   "source": [
    "import networkx as nx\n",
    "import category_encoders as ce\n",
    "from sklearn.preprocessing import StandardScaler\n",
    "\n",
    "X1_test = X_test\n",
    "\n",
    "print(\"nb Test instances : \", len(X1_test.values))\n",
    "\n",
    "encoder1 = ce.TargetEncoder(cols=[' Protocol',  'Fwd PSH Flags', ' Fwd URG Flags', ' Bwd PSH Flags', ' Bwd URG Flags'])\n",
    "encoder1.fit(X1_test, X1_test['label'])\n",
    "X1_test = encoder1.transform(X1_test)\n",
    "# X1_test = encoder1.transform(X1_test)\n",
    "\n",
    "scaler1 = StandardScaler()\n",
    "cols_to_norm1 = list(set(list(X1_test.iloc[:, :].columns )) - set(list(['label', ' Source IP', ' Destination IP'])) )\n",
    "X1_test[cols_to_norm1] = scaler1.fit_transform(X1_test[cols_to_norm1])\n",
    "# X1_test[cols_to_norm1] = scaler1.transform(X1_test[cols_to_norm1])\n",
    "\n",
    "X1_test['h'] = X1_test[ cols_to_norm1 ].values.tolist()\n",
    "X1_test.drop(columns = cols_to_norm1, inplace = True)\n",
    "\n",
    "# Then we need to Swap {label, h} Columns to have the {Source IP, Destination IP, h, label} representation\n",
    "columns_titles = [' Source IP', ' Destination IP', 'h', 'label']\n",
    "X1_test = X1_test.reindex(columns=columns_titles)\n",
    "\n",
    "G1_test = nx.from_pandas_edgelist(X1_test, \" Source IP\", \" Destination IP\", ['h','label'],create_using=nx.MultiGraph())\n",
    "\n",
    "print(G1_test)\n",
    "print(\"nb connected component =\", len(list(nx.connected_components(G1_test))))"
   ]
  },
  {
   "cell_type": "code",
   "execution_count": 4,
   "id": "turkish-boxing",
   "metadata": {},
   "outputs": [
    {
     "name": "stdout",
     "output_type": "stream",
     "text": [
      "2083\n",
      "1142\n"
     ]
    }
   ],
   "source": [
    "print(len(list(nx.connected_components(G1_test))[0]))\n",
    "\n",
    "data_bar = dict()\n",
    "for i, x in enumerate(list(nx.connected_components(G1_test))):\n",
    "    data_bar[f'{i}'] = len(x)\n",
    "\n",
    "print(len(data_bar))\n",
    "data_bar = dict(sorted(data_bar.items(), key=lambda x:x[1], reverse=True))"
   ]
  },
  {
   "cell_type": "markdown",
   "id": "played-feature",
   "metadata": {},
   "source": [
    "## CC Size Frequency"
   ]
  },
  {
   "cell_type": "code",
   "execution_count": 5,
   "id": "interpreted-speaker",
   "metadata": {},
   "outputs": [
    {
     "name": "stdout",
     "output_type": "stream",
     "text": [
      "{2083: 1, 755: 1, 329: 1, 56: 1, 24: 1, 22: 1, 21: 1, 18: 2, 16: 2, 14: 2, 13: 1, 11: 1, 10: 3, 9: 4, 8: 5, 7: 4, 6: 8, 5: 23, 4: 24, 3: 120, 2: 936}\n"
     ]
    }
   ],
   "source": [
    "from itertools import islice\n",
    "import collections\n",
    "\n",
    "cc_frequency = dict(collections.Counter(list(data_bar.values())))\n",
    "cc_frequency = dict(sorted(cc_frequency.items(), key=lambda x:x[0], reverse=True))\n",
    "print(cc_frequency)"
   ]
  },
  {
   "cell_type": "code",
   "execution_count": 6,
   "id": "ordinary-formation",
   "metadata": {},
   "outputs": [
    {
     "data": {
      "image/png": "[encoded data removed]",
      "text/plain": [
       "<Figure size 720x360 with 1 Axes>"
      ]
     },
     "metadata": {
      "needs_background": "light"
     },
     "output_type": "display_data"
    }
   ],
   "source": [
    "import numpy as np\n",
    "import matplotlib.pyplot as plt\n",
    "\n",
    "cc_size = list(map(str, list(cc_frequency.keys()))) \n",
    "cc_freq = list(cc_frequency.values())\n",
    "  \n",
    "fig = plt.figure(figsize = (10, 5))\n",
    " \n",
    "# creating the bar plot\n",
    "plt.bar(cc_size, cc_freq, color ='maroon', width = 0.4)\n",
    " \n",
    "plt.xlabel(\"Connected Component's Size\")\n",
    "plt.ylabel(\"Frequency\")\n",
    "plt.title(\"Connected Components of the test graph\")\n",
    "plt.show()"
   ]
  },
  {
   "cell_type": "markdown",
   "id": "adapted-holmes",
   "metadata": {},
   "source": [
    "## Node Degree Frequency"
   ]
  },
  {
   "cell_type": "code",
   "execution_count": 8,
   "id": "average-wages",
   "metadata": {},
   "outputs": [
    {
     "name": "stdout",
     "output_type": "stream",
     "text": [
      "{1787: 1, 748: 1, 349: 1, 56: 1, 39: 1, 21: 1, 20: 1, 17: 1, 15: 1, 13: 2, 11: 1, 10: 1, 9: 3, 8: 7, 7: 13, 6: 12, 5: 17, 4: 42, 3: 62, 2: 350, 1: 5516}\n"
     ]
    }
   ],
   "source": [
    "node_bar = dict(sorted(dict(G1_test.degree).items(), key=lambda x:x[1], reverse=True))\n",
    "\n",
    "from itertools import islice\n",
    "import collections\n",
    "\n",
    "node_degree_frequency = dict(collections.Counter(list(node_bar.values())))\n",
    "node_degree_frequency = dict(sorted(node_degree_frequency.items(), key=lambda x:x[0], reverse=True))\n",
    "print(node_degree_frequency)"
   ]
  },
  {
   "cell_type": "code",
   "execution_count": 9,
   "id": "therapeutic-athens",
   "metadata": {},
   "outputs": [
    {
     "data": {
      "image/png": "[encoded data removed]",
      "text/plain": [
       "<Figure size 720x360 with 1 Axes>"
      ]
     },
     "metadata": {
      "needs_background": "light"
     },
     "output_type": "display_data"
    }
   ],
   "source": [
    "import numpy as np\n",
    "import matplotlib.pyplot as plt\n",
    "\n",
    "node_degree = list(map(str, list(node_degree_frequency.keys()))) \n",
    "node_degree_freq = list(node_degree_frequency.values())\n",
    "  \n",
    "fig = plt.figure(figsize = (10, 5))\n",
    " \n",
    "# creating the bar plot\n",
    "plt.bar(node_degree, node_degree_freq, color ='blue', width = 0.4)\n",
    " \n",
    "plt.xlabel(\"Node Degree\")\n",
    "plt.ylabel(\"Frequency\")\n",
    "plt.title(\"Node Degree's Frequency\")\n",
    "plt.show()"
   ]
  },
  {
   "cell_type": "code",
   "execution_count": null,
   "id": "fleet-pregnancy",
   "metadata": {},
   "outputs": [],
   "source": []
  }
 ],
 "metadata": {
  "kernelspec": {
   "display_name": "Python 3",
   "language": "python",
   "name": "python3"
  },
  "language_info": {
   "codemirror_mode": {
    "name": "ipython",
    "version": 3
   },
   "file_extension": ".py",
   "mimetype": "text/x-python",
   "name": "python",
   "nbconvert_exporter": "python",
   "pygments_lexer": "ipython3",
   "version": "3.9.2"
  }
 },
 "nbformat": 4,
 "nbformat_minor": 5
}
